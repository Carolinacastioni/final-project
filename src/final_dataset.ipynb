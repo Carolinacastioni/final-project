{
 "cells": [
  {
   "cell_type": "code",
   "execution_count": 1,
   "metadata": {},
   "outputs": [],
   "source": [
    "import pandas as pd\n",
    "import numpy as np\n",
    "import glob"
   ]
  },
  {
   "cell_type": "markdown",
   "metadata": {},
   "source": [
    "# Get the dataframe:"
   ]
  },
  {
   "cell_type": "code",
   "execution_count": 2,
   "metadata": {},
   "outputs": [],
   "source": [
    "results = pd.read_csv('../OUTPUT/result.csv')  "
   ]
  },
  {
   "cell_type": "code",
   "execution_count": 18,
   "metadata": {},
   "outputs": [
    {
     "name": "stdout",
     "output_type": "stream",
     "text": [
      "(7368, 4)\n"
     ]
    },
    {
     "data": {
      "text/html": [
       "<div>\n",
       "<style scoped>\n",
       "    .dataframe tbody tr th:only-of-type {\n",
       "        vertical-align: middle;\n",
       "    }\n",
       "\n",
       "    .dataframe tbody tr th {\n",
       "        vertical-align: top;\n",
       "    }\n",
       "\n",
       "    .dataframe thead th {\n",
       "        text-align: right;\n",
       "    }\n",
       "</style>\n",
       "<table border=\"1\" class=\"dataframe\">\n",
       "  <thead>\n",
       "    <tr style=\"text-align: right;\">\n",
       "      <th></th>\n",
       "      <th>label</th>\n",
       "      <th>image_path</th>\n",
       "      <th>image_name</th>\n",
       "      <th>arrays</th>\n",
       "    </tr>\n",
       "  </thead>\n",
       "  <tbody>\n",
       "    <tr>\n",
       "      <th>0</th>\n",
       "      <td>0_2</td>\n",
       "      <td>../OUTPUT/faces_detected/0_2/image_346.jpg</td>\n",
       "      <td>image_346.jpg</td>\n",
       "      <td>[[ 10  13  14 ... 109  85  73]\\n [ 10  11  11 ...</td>\n",
       "    </tr>\n",
       "    <tr>\n",
       "      <th>1</th>\n",
       "      <td>0_2</td>\n",
       "      <td>../OUTPUT/faces_detected/0_2/image_231.jpg</td>\n",
       "      <td>image_231.jpg</td>\n",
       "      <td>[[ 72  80 101 ... 117  88  70]\\n [ 80  77  92 ...</td>\n",
       "    </tr>\n",
       "    <tr>\n",
       "      <th>2</th>\n",
       "      <td>0_2</td>\n",
       "      <td>../OUTPUT/faces_detected/0_2/image_696.jpg</td>\n",
       "      <td>image_696.jpg</td>\n",
       "      <td>[[ 35  67 100 ... 166 189 215]\\n [ 49  65  77 ...</td>\n",
       "    </tr>\n",
       "    <tr>\n",
       "      <th>3</th>\n",
       "      <td>0_2</td>\n",
       "      <td>../OUTPUT/faces_detected/0_2/image_1937.jpg</td>\n",
       "      <td>image_1937.jpg</td>\n",
       "      <td>[[ 38  24  28 ... 164 161 168]\\n [ 65  21  24 ...</td>\n",
       "    </tr>\n",
       "    <tr>\n",
       "      <th>4</th>\n",
       "      <td>0_2</td>\n",
       "      <td>../OUTPUT/faces_detected/0_2/image_1839.jpg</td>\n",
       "      <td>image_1839.jpg</td>\n",
       "      <td>[[110 108 105 ... 110  91  82]\\n [109 104 104 ...</td>\n",
       "    </tr>\n",
       "  </tbody>\n",
       "</table>\n",
       "</div>"
      ],
      "text/plain": [
       "  label                                   image_path      image_name  \\\n",
       "0   0_2   ../OUTPUT/faces_detected/0_2/image_346.jpg   image_346.jpg   \n",
       "1   0_2   ../OUTPUT/faces_detected/0_2/image_231.jpg   image_231.jpg   \n",
       "2   0_2   ../OUTPUT/faces_detected/0_2/image_696.jpg   image_696.jpg   \n",
       "3   0_2  ../OUTPUT/faces_detected/0_2/image_1937.jpg  image_1937.jpg   \n",
       "4   0_2  ../OUTPUT/faces_detected/0_2/image_1839.jpg  image_1839.jpg   \n",
       "\n",
       "                                              arrays  \n",
       "0  [[ 10  13  14 ... 109  85  73]\\n [ 10  11  11 ...  \n",
       "1  [[ 72  80 101 ... 117  88  70]\\n [ 80  77  92 ...  \n",
       "2  [[ 35  67 100 ... 166 189 215]\\n [ 49  65  77 ...  \n",
       "3  [[ 38  24  28 ... 164 161 168]\\n [ 65  21  24 ...  \n",
       "4  [[110 108 105 ... 110  91  82]\\n [109 104 104 ...  "
      ]
     },
     "execution_count": 18,
     "metadata": {},
     "output_type": "execute_result"
    }
   ],
   "source": [
    "print(results.shape)\n",
    "results.head()"
   ]
  },
  {
   "cell_type": "markdown",
   "metadata": {},
   "source": [
    "## Update the image_path:"
   ]
  },
  {
   "cell_type": "code",
   "execution_count": 4,
   "metadata": {},
   "outputs": [],
   "source": [
    "results['image_path'] = results['image_path'].str.replace('images', 'faces_detected', regex=True)"
   ]
  },
  {
   "cell_type": "code",
   "execution_count": 5,
   "metadata": {},
   "outputs": [
    {
     "name": "stdout",
     "output_type": "stream",
     "text": [
      "(7368, 4)\n"
     ]
    },
    {
     "data": {
      "text/html": [
       "<div>\n",
       "<style scoped>\n",
       "    .dataframe tbody tr th:only-of-type {\n",
       "        vertical-align: middle;\n",
       "    }\n",
       "\n",
       "    .dataframe tbody tr th {\n",
       "        vertical-align: top;\n",
       "    }\n",
       "\n",
       "    .dataframe thead th {\n",
       "        text-align: right;\n",
       "    }\n",
       "</style>\n",
       "<table border=\"1\" class=\"dataframe\">\n",
       "  <thead>\n",
       "    <tr style=\"text-align: right;\">\n",
       "      <th></th>\n",
       "      <th>label</th>\n",
       "      <th>image_path</th>\n",
       "      <th>arrays</th>\n",
       "      <th>image_name</th>\n",
       "    </tr>\n",
       "  </thead>\n",
       "  <tbody>\n",
       "    <tr>\n",
       "      <th>0</th>\n",
       "      <td>0_2</td>\n",
       "      <td>../OUTPUT/faces_detected/0_2/image_346.jpg</td>\n",
       "      <td>[[ 10  13  14 ... 109  85  73]\\n [ 10  11  11 ...</td>\n",
       "      <td>image_346.jpg</td>\n",
       "    </tr>\n",
       "    <tr>\n",
       "      <th>1</th>\n",
       "      <td>0_2</td>\n",
       "      <td>../OUTPUT/faces_detected/0_2/image_231.jpg</td>\n",
       "      <td>[[ 72  80 101 ... 117  88  70]\\n [ 80  77  92 ...</td>\n",
       "      <td>image_231.jpg</td>\n",
       "    </tr>\n",
       "    <tr>\n",
       "      <th>2</th>\n",
       "      <td>0_2</td>\n",
       "      <td>../OUTPUT/faces_detected/0_2/image_696.jpg</td>\n",
       "      <td>[[ 35  67 100 ... 166 189 215]\\n [ 49  65  77 ...</td>\n",
       "      <td>image_696.jpg</td>\n",
       "    </tr>\n",
       "    <tr>\n",
       "      <th>3</th>\n",
       "      <td>0_2</td>\n",
       "      <td>../OUTPUT/faces_detected/0_2/image_1937.jpg</td>\n",
       "      <td>[[ 38  24  28 ... 164 161 168]\\n [ 65  21  24 ...</td>\n",
       "      <td>image_1937.jpg</td>\n",
       "    </tr>\n",
       "    <tr>\n",
       "      <th>4</th>\n",
       "      <td>0_2</td>\n",
       "      <td>../OUTPUT/faces_detected/0_2/image_1839.jpg</td>\n",
       "      <td>[[110 108 105 ... 110  91  82]\\n [109 104 104 ...</td>\n",
       "      <td>image_1839.jpg</td>\n",
       "    </tr>\n",
       "  </tbody>\n",
       "</table>\n",
       "</div>"
      ],
      "text/plain": [
       "  label                                   image_path  \\\n",
       "0   0_2   ../OUTPUT/faces_detected/0_2/image_346.jpg   \n",
       "1   0_2   ../OUTPUT/faces_detected/0_2/image_231.jpg   \n",
       "2   0_2   ../OUTPUT/faces_detected/0_2/image_696.jpg   \n",
       "3   0_2  ../OUTPUT/faces_detected/0_2/image_1937.jpg   \n",
       "4   0_2  ../OUTPUT/faces_detected/0_2/image_1839.jpg   \n",
       "\n",
       "                                              arrays      image_name  \n",
       "0  [[ 10  13  14 ... 109  85  73]\\n [ 10  11  11 ...   image_346.jpg  \n",
       "1  [[ 72  80 101 ... 117  88  70]\\n [ 80  77  92 ...   image_231.jpg  \n",
       "2  [[ 35  67 100 ... 166 189 215]\\n [ 49  65  77 ...   image_696.jpg  \n",
       "3  [[ 38  24  28 ... 164 161 168]\\n [ 65  21  24 ...  image_1937.jpg  \n",
       "4  [[110 108 105 ... 110  91  82]\\n [109 104 104 ...  image_1839.jpg  "
      ]
     },
     "execution_count": 5,
     "metadata": {},
     "output_type": "execute_result"
    }
   ],
   "source": [
    "print(results.shape)\n",
    "results.head()"
   ]
  },
  {
   "cell_type": "markdown",
   "metadata": {},
   "source": [
    "## Organize columns"
   ]
  },
  {
   "cell_type": "code",
   "execution_count": 6,
   "metadata": {},
   "outputs": [],
   "source": [
    "results = results[['label', 'image_path', 'image_name', 'arrays']]"
   ]
  },
  {
   "cell_type": "markdown",
   "metadata": {},
   "source": [
    "## Transfor the label into numerical:"
   ]
  },
  {
   "cell_type": "code",
   "execution_count": 7,
   "metadata": {},
   "outputs": [],
   "source": [
    "df_label = pd.get_dummies(results['label'])"
   ]
  },
  {
   "cell_type": "markdown",
   "metadata": {},
   "source": [
    "## Organize the columns"
   ]
  },
  {
   "cell_type": "code",
   "execution_count": 8,
   "metadata": {},
   "outputs": [],
   "source": [
    "df_label = df_label[['0_2', '4_6', '8_12', '15_20', '25_32', '38_43', '48_53', '60_100']]"
   ]
  },
  {
   "cell_type": "code",
   "execution_count": 9,
   "metadata": {},
   "outputs": [
    {
     "data": {
      "text/html": [
       "<div>\n",
       "<style scoped>\n",
       "    .dataframe tbody tr th:only-of-type {\n",
       "        vertical-align: middle;\n",
       "    }\n",
       "\n",
       "    .dataframe tbody tr th {\n",
       "        vertical-align: top;\n",
       "    }\n",
       "\n",
       "    .dataframe thead th {\n",
       "        text-align: right;\n",
       "    }\n",
       "</style>\n",
       "<table border=\"1\" class=\"dataframe\">\n",
       "  <thead>\n",
       "    <tr style=\"text-align: right;\">\n",
       "      <th></th>\n",
       "      <th>0_2</th>\n",
       "      <th>4_6</th>\n",
       "      <th>8_12</th>\n",
       "      <th>15_20</th>\n",
       "      <th>25_32</th>\n",
       "      <th>38_43</th>\n",
       "      <th>48_53</th>\n",
       "      <th>60_100</th>\n",
       "    </tr>\n",
       "  </thead>\n",
       "  <tbody>\n",
       "    <tr>\n",
       "      <th>0</th>\n",
       "      <td>1</td>\n",
       "      <td>0</td>\n",
       "      <td>0</td>\n",
       "      <td>0</td>\n",
       "      <td>0</td>\n",
       "      <td>0</td>\n",
       "      <td>0</td>\n",
       "      <td>0</td>\n",
       "    </tr>\n",
       "    <tr>\n",
       "      <th>1</th>\n",
       "      <td>1</td>\n",
       "      <td>0</td>\n",
       "      <td>0</td>\n",
       "      <td>0</td>\n",
       "      <td>0</td>\n",
       "      <td>0</td>\n",
       "      <td>0</td>\n",
       "      <td>0</td>\n",
       "    </tr>\n",
       "    <tr>\n",
       "      <th>2</th>\n",
       "      <td>1</td>\n",
       "      <td>0</td>\n",
       "      <td>0</td>\n",
       "      <td>0</td>\n",
       "      <td>0</td>\n",
       "      <td>0</td>\n",
       "      <td>0</td>\n",
       "      <td>0</td>\n",
       "    </tr>\n",
       "    <tr>\n",
       "      <th>3</th>\n",
       "      <td>1</td>\n",
       "      <td>0</td>\n",
       "      <td>0</td>\n",
       "      <td>0</td>\n",
       "      <td>0</td>\n",
       "      <td>0</td>\n",
       "      <td>0</td>\n",
       "      <td>0</td>\n",
       "    </tr>\n",
       "    <tr>\n",
       "      <th>4</th>\n",
       "      <td>1</td>\n",
       "      <td>0</td>\n",
       "      <td>0</td>\n",
       "      <td>0</td>\n",
       "      <td>0</td>\n",
       "      <td>0</td>\n",
       "      <td>0</td>\n",
       "      <td>0</td>\n",
       "    </tr>\n",
       "  </tbody>\n",
       "</table>\n",
       "</div>"
      ],
      "text/plain": [
       "   0_2  4_6  8_12  15_20  25_32  38_43  48_53  60_100\n",
       "0    1    0     0      0      0      0      0       0\n",
       "1    1    0     0      0      0      0      0       0\n",
       "2    1    0     0      0      0      0      0       0\n",
       "3    1    0     0      0      0      0      0       0\n",
       "4    1    0     0      0      0      0      0       0"
      ]
     },
     "execution_count": 9,
     "metadata": {},
     "output_type": "execute_result"
    }
   ],
   "source": [
    "df_label.head()"
   ]
  },
  {
   "cell_type": "code",
   "execution_count": 10,
   "metadata": {},
   "outputs": [
    {
     "data": {
      "text/plain": [
       "Index(['0_2', '4_6', '8_12', '15_20', '25_32', '38_43', '48_53', '60_100'], dtype='object')"
      ]
     },
     "execution_count": 10,
     "metadata": {},
     "output_type": "execute_result"
    }
   ],
   "source": [
    "df_label.columns"
   ]
  },
  {
   "cell_type": "code",
   "execution_count": 11,
   "metadata": {},
   "outputs": [],
   "source": [
    "Row_list =[] \n",
    "  \n",
    "for index, rows in df_label.iterrows(): \n",
    "    my_list =[rows['0_2'], rows['4_6'], rows['8_12'], rows['15_20'], rows['25_32'], rows['38_43'], rows['48_53'], rows['60_100']] \n",
    "    Row_list.append(my_list)"
   ]
  },
  {
   "cell_type": "code",
   "execution_count": 12,
   "metadata": {},
   "outputs": [],
   "source": [
    "df_label['gt'] = Row_list"
   ]
  },
  {
   "cell_type": "code",
   "execution_count": 13,
   "metadata": {},
   "outputs": [
    {
     "name": "stdout",
     "output_type": "stream",
     "text": [
      "(7368, 9)\n"
     ]
    },
    {
     "data": {
      "text/html": [
       "<div>\n",
       "<style scoped>\n",
       "    .dataframe tbody tr th:only-of-type {\n",
       "        vertical-align: middle;\n",
       "    }\n",
       "\n",
       "    .dataframe tbody tr th {\n",
       "        vertical-align: top;\n",
       "    }\n",
       "\n",
       "    .dataframe thead th {\n",
       "        text-align: right;\n",
       "    }\n",
       "</style>\n",
       "<table border=\"1\" class=\"dataframe\">\n",
       "  <thead>\n",
       "    <tr style=\"text-align: right;\">\n",
       "      <th></th>\n",
       "      <th>0_2</th>\n",
       "      <th>4_6</th>\n",
       "      <th>8_12</th>\n",
       "      <th>15_20</th>\n",
       "      <th>25_32</th>\n",
       "      <th>38_43</th>\n",
       "      <th>48_53</th>\n",
       "      <th>60_100</th>\n",
       "      <th>gt</th>\n",
       "    </tr>\n",
       "  </thead>\n",
       "  <tbody>\n",
       "    <tr>\n",
       "      <th>0</th>\n",
       "      <td>1</td>\n",
       "      <td>0</td>\n",
       "      <td>0</td>\n",
       "      <td>0</td>\n",
       "      <td>0</td>\n",
       "      <td>0</td>\n",
       "      <td>0</td>\n",
       "      <td>0</td>\n",
       "      <td>[1, 0, 0, 0, 0, 0, 0, 0]</td>\n",
       "    </tr>\n",
       "    <tr>\n",
       "      <th>1</th>\n",
       "      <td>1</td>\n",
       "      <td>0</td>\n",
       "      <td>0</td>\n",
       "      <td>0</td>\n",
       "      <td>0</td>\n",
       "      <td>0</td>\n",
       "      <td>0</td>\n",
       "      <td>0</td>\n",
       "      <td>[1, 0, 0, 0, 0, 0, 0, 0]</td>\n",
       "    </tr>\n",
       "    <tr>\n",
       "      <th>2</th>\n",
       "      <td>1</td>\n",
       "      <td>0</td>\n",
       "      <td>0</td>\n",
       "      <td>0</td>\n",
       "      <td>0</td>\n",
       "      <td>0</td>\n",
       "      <td>0</td>\n",
       "      <td>0</td>\n",
       "      <td>[1, 0, 0, 0, 0, 0, 0, 0]</td>\n",
       "    </tr>\n",
       "    <tr>\n",
       "      <th>3</th>\n",
       "      <td>1</td>\n",
       "      <td>0</td>\n",
       "      <td>0</td>\n",
       "      <td>0</td>\n",
       "      <td>0</td>\n",
       "      <td>0</td>\n",
       "      <td>0</td>\n",
       "      <td>0</td>\n",
       "      <td>[1, 0, 0, 0, 0, 0, 0, 0]</td>\n",
       "    </tr>\n",
       "    <tr>\n",
       "      <th>4</th>\n",
       "      <td>1</td>\n",
       "      <td>0</td>\n",
       "      <td>0</td>\n",
       "      <td>0</td>\n",
       "      <td>0</td>\n",
       "      <td>0</td>\n",
       "      <td>0</td>\n",
       "      <td>0</td>\n",
       "      <td>[1, 0, 0, 0, 0, 0, 0, 0]</td>\n",
       "    </tr>\n",
       "  </tbody>\n",
       "</table>\n",
       "</div>"
      ],
      "text/plain": [
       "   0_2  4_6  8_12  15_20  25_32  38_43  48_53  60_100  \\\n",
       "0    1    0     0      0      0      0      0       0   \n",
       "1    1    0     0      0      0      0      0       0   \n",
       "2    1    0     0      0      0      0      0       0   \n",
       "3    1    0     0      0      0      0      0       0   \n",
       "4    1    0     0      0      0      0      0       0   \n",
       "\n",
       "                         gt  \n",
       "0  [1, 0, 0, 0, 0, 0, 0, 0]  \n",
       "1  [1, 0, 0, 0, 0, 0, 0, 0]  \n",
       "2  [1, 0, 0, 0, 0, 0, 0, 0]  \n",
       "3  [1, 0, 0, 0, 0, 0, 0, 0]  \n",
       "4  [1, 0, 0, 0, 0, 0, 0, 0]  "
      ]
     },
     "execution_count": 13,
     "metadata": {},
     "output_type": "execute_result"
    }
   ],
   "source": [
    "print(df_label.shape)\n",
    "df_label.head()"
   ]
  },
  {
   "cell_type": "markdown",
   "metadata": {},
   "source": [
    "## Merge both dataframes:"
   ]
  },
  {
   "cell_type": "code",
   "execution_count": 14,
   "metadata": {},
   "outputs": [],
   "source": [
    "data = pd.concat([results, df_label], axis=1)"
   ]
  },
  {
   "cell_type": "code",
   "execution_count": 15,
   "metadata": {},
   "outputs": [
    {
     "name": "stdout",
     "output_type": "stream",
     "text": [
      "(7368, 13)\n"
     ]
    },
    {
     "data": {
      "text/html": [
       "<div>\n",
       "<style scoped>\n",
       "    .dataframe tbody tr th:only-of-type {\n",
       "        vertical-align: middle;\n",
       "    }\n",
       "\n",
       "    .dataframe tbody tr th {\n",
       "        vertical-align: top;\n",
       "    }\n",
       "\n",
       "    .dataframe thead th {\n",
       "        text-align: right;\n",
       "    }\n",
       "</style>\n",
       "<table border=\"1\" class=\"dataframe\">\n",
       "  <thead>\n",
       "    <tr style=\"text-align: right;\">\n",
       "      <th></th>\n",
       "      <th>label</th>\n",
       "      <th>image_path</th>\n",
       "      <th>image_name</th>\n",
       "      <th>arrays</th>\n",
       "      <th>0_2</th>\n",
       "      <th>4_6</th>\n",
       "      <th>8_12</th>\n",
       "      <th>15_20</th>\n",
       "      <th>25_32</th>\n",
       "      <th>38_43</th>\n",
       "      <th>48_53</th>\n",
       "      <th>60_100</th>\n",
       "      <th>gt</th>\n",
       "    </tr>\n",
       "  </thead>\n",
       "  <tbody>\n",
       "    <tr>\n",
       "      <th>0</th>\n",
       "      <td>0_2</td>\n",
       "      <td>../OUTPUT/faces_detected/0_2/image_346.jpg</td>\n",
       "      <td>image_346.jpg</td>\n",
       "      <td>[[ 10  13  14 ... 109  85  73]\\n [ 10  11  11 ...</td>\n",
       "      <td>1</td>\n",
       "      <td>0</td>\n",
       "      <td>0</td>\n",
       "      <td>0</td>\n",
       "      <td>0</td>\n",
       "      <td>0</td>\n",
       "      <td>0</td>\n",
       "      <td>0</td>\n",
       "      <td>[1, 0, 0, 0, 0, 0, 0, 0]</td>\n",
       "    </tr>\n",
       "    <tr>\n",
       "      <th>1</th>\n",
       "      <td>0_2</td>\n",
       "      <td>../OUTPUT/faces_detected/0_2/image_231.jpg</td>\n",
       "      <td>image_231.jpg</td>\n",
       "      <td>[[ 72  80 101 ... 117  88  70]\\n [ 80  77  92 ...</td>\n",
       "      <td>1</td>\n",
       "      <td>0</td>\n",
       "      <td>0</td>\n",
       "      <td>0</td>\n",
       "      <td>0</td>\n",
       "      <td>0</td>\n",
       "      <td>0</td>\n",
       "      <td>0</td>\n",
       "      <td>[1, 0, 0, 0, 0, 0, 0, 0]</td>\n",
       "    </tr>\n",
       "    <tr>\n",
       "      <th>2</th>\n",
       "      <td>0_2</td>\n",
       "      <td>../OUTPUT/faces_detected/0_2/image_696.jpg</td>\n",
       "      <td>image_696.jpg</td>\n",
       "      <td>[[ 35  67 100 ... 166 189 215]\\n [ 49  65  77 ...</td>\n",
       "      <td>1</td>\n",
       "      <td>0</td>\n",
       "      <td>0</td>\n",
       "      <td>0</td>\n",
       "      <td>0</td>\n",
       "      <td>0</td>\n",
       "      <td>0</td>\n",
       "      <td>0</td>\n",
       "      <td>[1, 0, 0, 0, 0, 0, 0, 0]</td>\n",
       "    </tr>\n",
       "    <tr>\n",
       "      <th>3</th>\n",
       "      <td>0_2</td>\n",
       "      <td>../OUTPUT/faces_detected/0_2/image_1937.jpg</td>\n",
       "      <td>image_1937.jpg</td>\n",
       "      <td>[[ 38  24  28 ... 164 161 168]\\n [ 65  21  24 ...</td>\n",
       "      <td>1</td>\n",
       "      <td>0</td>\n",
       "      <td>0</td>\n",
       "      <td>0</td>\n",
       "      <td>0</td>\n",
       "      <td>0</td>\n",
       "      <td>0</td>\n",
       "      <td>0</td>\n",
       "      <td>[1, 0, 0, 0, 0, 0, 0, 0]</td>\n",
       "    </tr>\n",
       "    <tr>\n",
       "      <th>4</th>\n",
       "      <td>0_2</td>\n",
       "      <td>../OUTPUT/faces_detected/0_2/image_1839.jpg</td>\n",
       "      <td>image_1839.jpg</td>\n",
       "      <td>[[110 108 105 ... 110  91  82]\\n [109 104 104 ...</td>\n",
       "      <td>1</td>\n",
       "      <td>0</td>\n",
       "      <td>0</td>\n",
       "      <td>0</td>\n",
       "      <td>0</td>\n",
       "      <td>0</td>\n",
       "      <td>0</td>\n",
       "      <td>0</td>\n",
       "      <td>[1, 0, 0, 0, 0, 0, 0, 0]</td>\n",
       "    </tr>\n",
       "  </tbody>\n",
       "</table>\n",
       "</div>"
      ],
      "text/plain": [
       "  label                                   image_path      image_name  \\\n",
       "0   0_2   ../OUTPUT/faces_detected/0_2/image_346.jpg   image_346.jpg   \n",
       "1   0_2   ../OUTPUT/faces_detected/0_2/image_231.jpg   image_231.jpg   \n",
       "2   0_2   ../OUTPUT/faces_detected/0_2/image_696.jpg   image_696.jpg   \n",
       "3   0_2  ../OUTPUT/faces_detected/0_2/image_1937.jpg  image_1937.jpg   \n",
       "4   0_2  ../OUTPUT/faces_detected/0_2/image_1839.jpg  image_1839.jpg   \n",
       "\n",
       "                                              arrays  0_2  4_6  8_12  15_20  \\\n",
       "0  [[ 10  13  14 ... 109  85  73]\\n [ 10  11  11 ...    1    0     0      0   \n",
       "1  [[ 72  80 101 ... 117  88  70]\\n [ 80  77  92 ...    1    0     0      0   \n",
       "2  [[ 35  67 100 ... 166 189 215]\\n [ 49  65  77 ...    1    0     0      0   \n",
       "3  [[ 38  24  28 ... 164 161 168]\\n [ 65  21  24 ...    1    0     0      0   \n",
       "4  [[110 108 105 ... 110  91  82]\\n [109 104 104 ...    1    0     0      0   \n",
       "\n",
       "   25_32  38_43  48_53  60_100                        gt  \n",
       "0      0      0      0       0  [1, 0, 0, 0, 0, 0, 0, 0]  \n",
       "1      0      0      0       0  [1, 0, 0, 0, 0, 0, 0, 0]  \n",
       "2      0      0      0       0  [1, 0, 0, 0, 0, 0, 0, 0]  \n",
       "3      0      0      0       0  [1, 0, 0, 0, 0, 0, 0, 0]  \n",
       "4      0      0      0       0  [1, 0, 0, 0, 0, 0, 0, 0]  "
      ]
     },
     "execution_count": 15,
     "metadata": {},
     "output_type": "execute_result"
    }
   ],
   "source": [
    "print(data.shape)\n",
    "data.head()"
   ]
  },
  {
   "cell_type": "markdown",
   "metadata": {},
   "source": [
    "## Export to CSV:"
   ]
  },
  {
   "cell_type": "code",
   "execution_count": 17,
   "metadata": {},
   "outputs": [],
   "source": [
    "data.to_csv(\"../OUTPUT/data.csv\", index = False)"
   ]
  },
  {
   "cell_type": "markdown",
   "metadata": {},
   "source": [
    "All done!"
   ]
  }
 ],
 "metadata": {
  "kernelspec": {
   "display_name": "Python 3",
   "language": "python",
   "name": "python3"
  },
  "language_info": {
   "codemirror_mode": {
    "name": "ipython",
    "version": 3
   },
   "file_extension": ".py",
   "mimetype": "text/x-python",
   "name": "python",
   "nbconvert_exporter": "python",
   "pygments_lexer": "ipython3",
   "version": "3.7.5"
  }
 },
 "nbformat": 4,
 "nbformat_minor": 4
}
