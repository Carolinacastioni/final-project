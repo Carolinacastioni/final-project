{
 "cells": [
  {
   "cell_type": "code",
   "execution_count": 1,
   "metadata": {},
   "outputs": [],
   "source": [
    "import pandas as pd\n",
    "import numpy as np\n",
    "import cv2\n",
    "import glob\n",
    "import matplotlib.pyplot as plt\n",
    "import os\n",
    "import face_recognition\n",
    "from sklearn import preprocessing\n",
    "from sklearn.model_selection import train_test_split\n",
    "from sklearn.metrics import confusion_matrix\n",
    "import seaborn as sns\n",
    "from PIL import Image"
   ]
  },
  {
   "cell_type": "code",
   "execution_count": 2,
   "metadata": {},
   "outputs": [],
   "source": [
    "from codes import importPath, resizeImages"
   ]
  },
  {
   "cell_type": "markdown",
   "metadata": {},
   "source": [
    "# Getting all the images path:"
   ]
  },
  {
   "cell_type": "code",
   "execution_count": 3,
   "metadata": {},
   "outputs": [],
   "source": [
    "folders = ['0_2', '4_6', '8_12', '15_20', '25_32', '38_43', '48_53', '60_100']\n",
    "\n",
    "faceFiles = []\n",
    "    \n",
    "for files in folders:\n",
    "    ff = importPath(files)\n",
    "    faceFiles.append(ff)"
   ]
  },
  {
   "cell_type": "markdown",
   "metadata": {},
   "source": [
    "## Create a dictionary with folder(label) / images path:"
   ]
  },
  {
   "cell_type": "code",
   "execution_count": 4,
   "metadata": {},
   "outputs": [],
   "source": [
    "pics = dict()\n",
    "for ffiles in faceFiles:\n",
    "    for foto in ffiles:\n",
    "        label = foto.split(\"/\")[-2]\n",
    "        pic = foto\n",
    "        if label in pics:\n",
    "            pics[label].append(pic)\n",
    "        else:\n",
    "            pics[label] = [pic]"
   ]
  },
  {
   "cell_type": "markdown",
   "metadata": {},
   "source": [
    "## Create a dataframe with the information label / images path:"
   ]
  },
  {
   "cell_type": "code",
   "execution_count": 5,
   "metadata": {},
   "outputs": [
    {
     "data": {
      "text/html": [
       "<div>\n",
       "<style scoped>\n",
       "    .dataframe tbody tr th:only-of-type {\n",
       "        vertical-align: middle;\n",
       "    }\n",
       "\n",
       "    .dataframe tbody tr th {\n",
       "        vertical-align: top;\n",
       "    }\n",
       "\n",
       "    .dataframe thead th {\n",
       "        text-align: right;\n",
       "    }\n",
       "</style>\n",
       "<table border=\"1\" class=\"dataframe\">\n",
       "  <thead>\n",
       "    <tr style=\"text-align: right;\">\n",
       "      <th></th>\n",
       "      <th>label</th>\n",
       "      <th>image_path</th>\n",
       "    </tr>\n",
       "  </thead>\n",
       "  <tbody>\n",
       "    <tr>\n",
       "      <th>0</th>\n",
       "      <td>0_2</td>\n",
       "      <td>../OUTPUT/images/0_2/image_669.jpg</td>\n",
       "    </tr>\n",
       "    <tr>\n",
       "      <th>1</th>\n",
       "      <td>0_2</td>\n",
       "      <td>../OUTPUT/images/0_2/image_1570.jpg</td>\n",
       "    </tr>\n",
       "    <tr>\n",
       "      <th>2</th>\n",
       "      <td>0_2</td>\n",
       "      <td>../OUTPUT/images/0_2/image_346.jpg</td>\n",
       "    </tr>\n",
       "    <tr>\n",
       "      <th>3</th>\n",
       "      <td>0_2</td>\n",
       "      <td>../OUTPUT/images/0_2/image_441.jpg</td>\n",
       "    </tr>\n",
       "    <tr>\n",
       "      <th>4</th>\n",
       "      <td>0_2</td>\n",
       "      <td>../OUTPUT/images/0_2/image_1055.jpg</td>\n",
       "    </tr>\n",
       "  </tbody>\n",
       "</table>\n",
       "</div>"
      ],
      "text/plain": [
       "  label                           image_path\n",
       "0   0_2   ../OUTPUT/images/0_2/image_669.jpg\n",
       "1   0_2  ../OUTPUT/images/0_2/image_1570.jpg\n",
       "2   0_2   ../OUTPUT/images/0_2/image_346.jpg\n",
       "3   0_2   ../OUTPUT/images/0_2/image_441.jpg\n",
       "4   0_2  ../OUTPUT/images/0_2/image_1055.jpg"
      ]
     },
     "metadata": {},
     "output_type": "display_data"
    }
   ],
   "source": [
    "im = []\n",
    "\n",
    "for k,v in pics.items():\n",
    "    for a in v:\n",
    "        im.append([k,a])\n",
    "faces_df =  pd.DataFrame(im, columns=[\"label\",\"image_path\"])\n",
    "\n",
    "display(faces_df.head())"
   ]
  },
  {
   "cell_type": "code",
   "execution_count": 6,
   "metadata": {},
   "outputs": [
    {
     "data": {
      "text/plain": [
       "(17462, 2)"
      ]
     },
     "execution_count": 6,
     "metadata": {},
     "output_type": "execute_result"
    }
   ],
   "source": [
    "faces_df.shape"
   ]
  },
  {
   "cell_type": "code",
   "execution_count": 7,
   "metadata": {},
   "outputs": [
    {
     "data": {
      "text/plain": [
       "25_32     5023\n",
       "0_2       2491\n",
       "38_43     2340\n",
       "4_6       2140\n",
       "8_12      2124\n",
       "15_20     1642\n",
       "60_100     872\n",
       "48_53      830\n",
       "Name: label, dtype: int64"
      ]
     },
     "execution_count": 7,
     "metadata": {},
     "output_type": "execute_result"
    }
   ],
   "source": [
    "faces_df.label.value_counts()"
   ]
  },
  {
   "cell_type": "markdown",
   "metadata": {},
   "source": [
    "We might need to delete some of the 25_32 data, so it doesn't interfe in the prediction results."
   ]
  },
  {
   "cell_type": "markdown",
   "metadata": {},
   "source": [
    "# Extract face from image:"
   ]
  },
  {
   "cell_type": "markdown",
   "metadata": {},
   "source": [
    "Import haarcascade:"
   ]
  },
  {
   "cell_type": "code",
   "execution_count": 8,
   "metadata": {},
   "outputs": [],
   "source": [
    "face_cascade = cv2.CascadeClassifier('../INPUT/haarcascade_frontalface_default.xml')"
   ]
  },
  {
   "cell_type": "markdown",
   "metadata": {},
   "source": [
    "We will need to treat the images in order to detect the faces:"
   ]
  },
  {
   "cell_type": "markdown",
   "metadata": {},
   "source": [
    "## Convert images into B&W:"
   ]
  },
  {
   "cell_type": "code",
   "execution_count": 9,
   "metadata": {},
   "outputs": [],
   "source": [
    "def BlackandWhite(image_path):\n",
    "    im_bw = cv2.imread(image_path)\n",
    "    im_bw = cv2.cvtColor(im_bw, cv2.COLOR_BGR2GRAY)\n",
    "    return im_bw"
   ]
  },
  {
   "cell_type": "code",
   "execution_count": 10,
   "metadata": {},
   "outputs": [],
   "source": [
    "dictionary={}\n",
    "count = 0\n",
    "for path in faces_df['image_path']:\n",
    "    dictionary[count] = BlackandWhite(path)\n",
    "    count+=1"
   ]
  },
  {
   "cell_type": "code",
   "execution_count": 11,
   "metadata": {},
   "outputs": [],
   "source": [
    "def configImag(array):\n",
    "    try:\n",
    "        faces = face_cascade.detectMultiScale(array, 1.25, 6)\n",
    "        x,y,w,h = faces[0]\n",
    "        face = array[y:y+h,x:x+w]\n",
    "        face = cv2.resize(face,(48,48))\n",
    "        return face\n",
    "    except:\n",
    "        return \"face not found\""
   ]
  },
  {
   "cell_type": "code",
   "execution_count": 12,
   "metadata": {},
   "outputs": [],
   "source": [
    "diction={}\n",
    "for k,v in dictionary.items():\n",
    "    diction.setdefault('clean_image', []).append(configImag(v))"
   ]
  },
  {
   "cell_type": "code",
   "execution_count": 13,
   "metadata": {},
   "outputs": [
    {
     "data": {
      "text/plain": [
       "(17462, 1)"
      ]
     },
     "execution_count": 13,
     "metadata": {},
     "output_type": "execute_result"
    }
   ],
   "source": [
    "pd.DataFrame(diction).shape"
   ]
  },
  {
   "cell_type": "code",
   "execution_count": 14,
   "metadata": {},
   "outputs": [],
   "source": [
    "faces_df['arrays']= pd.DataFrame(diction)"
   ]
  },
  {
   "cell_type": "code",
   "execution_count": 15,
   "metadata": {},
   "outputs": [
    {
     "name": "stderr",
     "output_type": "stream",
     "text": [
      "/home/carolina/.local/lib/python3.7/site-packages/pandas/core/ops/array_ops.py:57: FutureWarning: elementwise comparison failed; returning scalar instead, but in the future will perform elementwise comparison\n",
      "  result = libops.scalar_compare(x.ravel(), y, op)\n"
     ]
    },
    {
     "data": {
      "text/html": [
       "<div>\n",
       "<style scoped>\n",
       "    .dataframe tbody tr th:only-of-type {\n",
       "        vertical-align: middle;\n",
       "    }\n",
       "\n",
       "    .dataframe tbody tr th {\n",
       "        vertical-align: top;\n",
       "    }\n",
       "\n",
       "    .dataframe thead th {\n",
       "        text-align: right;\n",
       "    }\n",
       "</style>\n",
       "<table border=\"1\" class=\"dataframe\">\n",
       "  <thead>\n",
       "    <tr style=\"text-align: right;\">\n",
       "      <th></th>\n",
       "      <th>label</th>\n",
       "      <th>image_path</th>\n",
       "      <th>arrays</th>\n",
       "    </tr>\n",
       "  </thead>\n",
       "  <tbody>\n",
       "    <tr>\n",
       "      <th>1</th>\n",
       "      <td>0_2</td>\n",
       "      <td>../OUTPUT/images/0_2/image_1570.jpg</td>\n",
       "      <td>face not found</td>\n",
       "    </tr>\n",
       "    <tr>\n",
       "      <th>3</th>\n",
       "      <td>0_2</td>\n",
       "      <td>../OUTPUT/images/0_2/image_441.jpg</td>\n",
       "      <td>face not found</td>\n",
       "    </tr>\n",
       "    <tr>\n",
       "      <th>4</th>\n",
       "      <td>0_2</td>\n",
       "      <td>../OUTPUT/images/0_2/image_1055.jpg</td>\n",
       "      <td>face not found</td>\n",
       "    </tr>\n",
       "    <tr>\n",
       "      <th>12</th>\n",
       "      <td>0_2</td>\n",
       "      <td>../OUTPUT/images/0_2/image_1235.jpg</td>\n",
       "      <td>face not found</td>\n",
       "    </tr>\n",
       "    <tr>\n",
       "      <th>16</th>\n",
       "      <td>0_2</td>\n",
       "      <td>../OUTPUT/images/0_2/image_1902.jpg</td>\n",
       "      <td>face not found</td>\n",
       "    </tr>\n",
       "    <tr>\n",
       "      <th>...</th>\n",
       "      <td>...</td>\n",
       "      <td>...</td>\n",
       "      <td>...</td>\n",
       "    </tr>\n",
       "    <tr>\n",
       "      <th>17443</th>\n",
       "      <td>60_100</td>\n",
       "      <td>../OUTPUT/images/60_100/image_636.jpg</td>\n",
       "      <td>face not found</td>\n",
       "    </tr>\n",
       "    <tr>\n",
       "      <th>17444</th>\n",
       "      <td>60_100</td>\n",
       "      <td>../OUTPUT/images/60_100/image_634.jpg</td>\n",
       "      <td>face not found</td>\n",
       "    </tr>\n",
       "    <tr>\n",
       "      <th>17445</th>\n",
       "      <td>60_100</td>\n",
       "      <td>../OUTPUT/images/60_100/image_539.jpg</td>\n",
       "      <td>face not found</td>\n",
       "    </tr>\n",
       "    <tr>\n",
       "      <th>17446</th>\n",
       "      <td>60_100</td>\n",
       "      <td>../OUTPUT/images/60_100/image_865.jpg</td>\n",
       "      <td>face not found</td>\n",
       "    </tr>\n",
       "    <tr>\n",
       "      <th>17455</th>\n",
       "      <td>60_100</td>\n",
       "      <td>../OUTPUT/images/60_100/image_123.jpg</td>\n",
       "      <td>face not found</td>\n",
       "    </tr>\n",
       "  </tbody>\n",
       "</table>\n",
       "<p>3653 rows × 3 columns</p>\n",
       "</div>"
      ],
      "text/plain": [
       "        label                             image_path          arrays\n",
       "1         0_2    ../OUTPUT/images/0_2/image_1570.jpg  face not found\n",
       "3         0_2     ../OUTPUT/images/0_2/image_441.jpg  face not found\n",
       "4         0_2    ../OUTPUT/images/0_2/image_1055.jpg  face not found\n",
       "12        0_2    ../OUTPUT/images/0_2/image_1235.jpg  face not found\n",
       "16        0_2    ../OUTPUT/images/0_2/image_1902.jpg  face not found\n",
       "...       ...                                    ...             ...\n",
       "17443  60_100  ../OUTPUT/images/60_100/image_636.jpg  face not found\n",
       "17444  60_100  ../OUTPUT/images/60_100/image_634.jpg  face not found\n",
       "17445  60_100  ../OUTPUT/images/60_100/image_539.jpg  face not found\n",
       "17446  60_100  ../OUTPUT/images/60_100/image_865.jpg  face not found\n",
       "17455  60_100  ../OUTPUT/images/60_100/image_123.jpg  face not found\n",
       "\n",
       "[3653 rows x 3 columns]"
      ]
     },
     "execution_count": 15,
     "metadata": {},
     "output_type": "execute_result"
    }
   ],
   "source": [
    "faces_df[faces_df.arrays == 'face not found']"
   ]
  },
  {
   "cell_type": "markdown",
   "metadata": {},
   "source": [
    "## Delete the images which the face was not recognized:"
   ]
  },
  {
   "cell_type": "code",
   "execution_count": 16,
   "metadata": {},
   "outputs": [
    {
     "name": "stderr",
     "output_type": "stream",
     "text": [
      "/home/carolina/.local/lib/python3.7/site-packages/pandas/core/ops/array_ops.py:57: FutureWarning: elementwise comparison failed; returning scalar instead, but in the future will perform elementwise comparison\n",
      "  result = libops.scalar_compare(x.ravel(), y, op)\n"
     ]
    }
   ],
   "source": [
    "faces_df.drop(faces_df[faces_df.arrays == 'face not found'].index, inplace = True)"
   ]
  },
  {
   "cell_type": "code",
   "execution_count": 17,
   "metadata": {},
   "outputs": [
    {
     "name": "stdout",
     "output_type": "stream",
     "text": [
      "(13809, 3)\n"
     ]
    },
    {
     "data": {
      "text/html": [
       "<div>\n",
       "<style scoped>\n",
       "    .dataframe tbody tr th:only-of-type {\n",
       "        vertical-align: middle;\n",
       "    }\n",
       "\n",
       "    .dataframe tbody tr th {\n",
       "        vertical-align: top;\n",
       "    }\n",
       "\n",
       "    .dataframe thead th {\n",
       "        text-align: right;\n",
       "    }\n",
       "</style>\n",
       "<table border=\"1\" class=\"dataframe\">\n",
       "  <thead>\n",
       "    <tr style=\"text-align: right;\">\n",
       "      <th></th>\n",
       "      <th>label</th>\n",
       "      <th>image_path</th>\n",
       "      <th>arrays</th>\n",
       "    </tr>\n",
       "  </thead>\n",
       "  <tbody>\n",
       "    <tr>\n",
       "      <th>0</th>\n",
       "      <td>0_2</td>\n",
       "      <td>../OUTPUT/images/0_2/image_669.jpg</td>\n",
       "      <td>[[58, 64, 76, 90, 109, 119, 135, 150, 166, 164...</td>\n",
       "    </tr>\n",
       "    <tr>\n",
       "      <th>2</th>\n",
       "      <td>0_2</td>\n",
       "      <td>../OUTPUT/images/0_2/image_346.jpg</td>\n",
       "      <td>[[10, 13, 14, 22, 41, 37, 33, 35, 34, 37, 32, ...</td>\n",
       "    </tr>\n",
       "    <tr>\n",
       "      <th>5</th>\n",
       "      <td>0_2</td>\n",
       "      <td>../OUTPUT/images/0_2/image_1135.jpg</td>\n",
       "      <td>[[193, 194, 193, 188, 186, 186, 180, 146, 82, ...</td>\n",
       "    </tr>\n",
       "    <tr>\n",
       "      <th>6</th>\n",
       "      <td>0_2</td>\n",
       "      <td>../OUTPUT/images/0_2/image_231.jpg</td>\n",
       "      <td>[[72, 80, 101, 108, 110, 111, 115, 121, 128, 1...</td>\n",
       "    </tr>\n",
       "    <tr>\n",
       "      <th>7</th>\n",
       "      <td>0_2</td>\n",
       "      <td>../OUTPUT/images/0_2/image_696.jpg</td>\n",
       "      <td>[[35, 67, 100, 78, 45, 64, 75, 144, 163, 156, ...</td>\n",
       "    </tr>\n",
       "  </tbody>\n",
       "</table>\n",
       "</div>"
      ],
      "text/plain": [
       "  label                           image_path  \\\n",
       "0   0_2   ../OUTPUT/images/0_2/image_669.jpg   \n",
       "2   0_2   ../OUTPUT/images/0_2/image_346.jpg   \n",
       "5   0_2  ../OUTPUT/images/0_2/image_1135.jpg   \n",
       "6   0_2   ../OUTPUT/images/0_2/image_231.jpg   \n",
       "7   0_2   ../OUTPUT/images/0_2/image_696.jpg   \n",
       "\n",
       "                                              arrays  \n",
       "0  [[58, 64, 76, 90, 109, 119, 135, 150, 166, 164...  \n",
       "2  [[10, 13, 14, 22, 41, 37, 33, 35, 34, 37, 32, ...  \n",
       "5  [[193, 194, 193, 188, 186, 186, 180, 146, 82, ...  \n",
       "6  [[72, 80, 101, 108, 110, 111, 115, 121, 128, 1...  \n",
       "7  [[35, 67, 100, 78, 45, 64, 75, 144, 163, 156, ...  "
      ]
     },
     "execution_count": 17,
     "metadata": {},
     "output_type": "execute_result"
    }
   ],
   "source": [
    "print(faces_df.shape)\n",
    "faces_df.head()"
   ]
  },
  {
   "cell_type": "code",
   "execution_count": 18,
   "metadata": {},
   "outputs": [
    {
     "data": {
      "text/plain": [
       "25_32     4202\n",
       "38_43     1946\n",
       "8_12      1833\n",
       "4_6       1611\n",
       "0_2       1536\n",
       "15_20     1313\n",
       "60_100     692\n",
       "48_53      676\n",
       "Name: label, dtype: int64"
      ]
     },
     "execution_count": 18,
     "metadata": {},
     "output_type": "execute_result"
    }
   ],
   "source": [
    "faces_df['label'].value_counts()"
   ]
  },
  {
   "cell_type": "code",
   "execution_count": 19,
   "metadata": {},
   "outputs": [
    {
     "name": "stdout",
     "output_type": "stream",
     "text": [
      "Faces_detected:79%\n"
     ]
    }
   ],
   "source": [
    "Faces_detected = 13809*100//17462\n",
    "print(f\"Faces_detected:{Faces_detected}%\")"
   ]
  },
  {
   "cell_type": "markdown",
   "metadata": {},
   "source": [
    "# Save the Face detected images"
   ]
  },
  {
   "cell_type": "code",
   "execution_count": 20,
   "metadata": {},
   "outputs": [],
   "source": [
    "image_name = []\n",
    "\n",
    "for a in list(faces_df.image_path):\n",
    "    im_name = a.split(\"/\")[-1]\n",
    "    image_name.append(im_name)"
   ]
  },
  {
   "cell_type": "code",
   "execution_count": 21,
   "metadata": {},
   "outputs": [],
   "source": [
    "faces_df['image_name'] = image_name"
   ]
  },
  {
   "cell_type": "code",
   "execution_count": 22,
   "metadata": {},
   "outputs": [
    {
     "data": {
      "text/html": [
       "<div>\n",
       "<style scoped>\n",
       "    .dataframe tbody tr th:only-of-type {\n",
       "        vertical-align: middle;\n",
       "    }\n",
       "\n",
       "    .dataframe tbody tr th {\n",
       "        vertical-align: top;\n",
       "    }\n",
       "\n",
       "    .dataframe thead th {\n",
       "        text-align: right;\n",
       "    }\n",
       "</style>\n",
       "<table border=\"1\" class=\"dataframe\">\n",
       "  <thead>\n",
       "    <tr style=\"text-align: right;\">\n",
       "      <th></th>\n",
       "      <th>label</th>\n",
       "      <th>image_path</th>\n",
       "      <th>arrays</th>\n",
       "      <th>image_name</th>\n",
       "    </tr>\n",
       "  </thead>\n",
       "  <tbody>\n",
       "    <tr>\n",
       "      <th>0</th>\n",
       "      <td>0_2</td>\n",
       "      <td>../OUTPUT/images/0_2/image_669.jpg</td>\n",
       "      <td>[[58, 64, 76, 90, 109, 119, 135, 150, 166, 164...</td>\n",
       "      <td>image_669.jpg</td>\n",
       "    </tr>\n",
       "    <tr>\n",
       "      <th>2</th>\n",
       "      <td>0_2</td>\n",
       "      <td>../OUTPUT/images/0_2/image_346.jpg</td>\n",
       "      <td>[[10, 13, 14, 22, 41, 37, 33, 35, 34, 37, 32, ...</td>\n",
       "      <td>image_346.jpg</td>\n",
       "    </tr>\n",
       "    <tr>\n",
       "      <th>5</th>\n",
       "      <td>0_2</td>\n",
       "      <td>../OUTPUT/images/0_2/image_1135.jpg</td>\n",
       "      <td>[[193, 194, 193, 188, 186, 186, 180, 146, 82, ...</td>\n",
       "      <td>image_1135.jpg</td>\n",
       "    </tr>\n",
       "    <tr>\n",
       "      <th>6</th>\n",
       "      <td>0_2</td>\n",
       "      <td>../OUTPUT/images/0_2/image_231.jpg</td>\n",
       "      <td>[[72, 80, 101, 108, 110, 111, 115, 121, 128, 1...</td>\n",
       "      <td>image_231.jpg</td>\n",
       "    </tr>\n",
       "    <tr>\n",
       "      <th>7</th>\n",
       "      <td>0_2</td>\n",
       "      <td>../OUTPUT/images/0_2/image_696.jpg</td>\n",
       "      <td>[[35, 67, 100, 78, 45, 64, 75, 144, 163, 156, ...</td>\n",
       "      <td>image_696.jpg</td>\n",
       "    </tr>\n",
       "  </tbody>\n",
       "</table>\n",
       "</div>"
      ],
      "text/plain": [
       "  label                           image_path  \\\n",
       "0   0_2   ../OUTPUT/images/0_2/image_669.jpg   \n",
       "2   0_2   ../OUTPUT/images/0_2/image_346.jpg   \n",
       "5   0_2  ../OUTPUT/images/0_2/image_1135.jpg   \n",
       "6   0_2   ../OUTPUT/images/0_2/image_231.jpg   \n",
       "7   0_2   ../OUTPUT/images/0_2/image_696.jpg   \n",
       "\n",
       "                                              arrays      image_name  \n",
       "0  [[58, 64, 76, 90, 109, 119, 135, 150, 166, 164...   image_669.jpg  \n",
       "2  [[10, 13, 14, 22, 41, 37, 33, 35, 34, 37, 32, ...   image_346.jpg  \n",
       "5  [[193, 194, 193, 188, 186, 186, 180, 146, 82, ...  image_1135.jpg  \n",
       "6  [[72, 80, 101, 108, 110, 111, 115, 121, 128, 1...   image_231.jpg  \n",
       "7  [[35, 67, 100, 78, 45, 64, 75, 144, 163, 156, ...   image_696.jpg  "
      ]
     },
     "execution_count": 22,
     "metadata": {},
     "output_type": "execute_result"
    }
   ],
   "source": [
    "faces_df.head()"
   ]
  },
  {
   "cell_type": "markdown",
   "metadata": {},
   "source": [
    "## Let's save max. 1.000 per label"
   ]
  },
  {
   "cell_type": "code",
   "execution_count": 23,
   "metadata": {},
   "outputs": [],
   "source": [
    "# 0_2:"
   ]
  },
  {
   "cell_type": "code",
   "execution_count": 24,
   "metadata": {},
   "outputs": [],
   "source": [
    "import random"
   ]
  },
  {
   "cell_type": "code",
   "execution_count": 25,
   "metadata": {},
   "outputs": [],
   "source": [
    "df_0_2 = faces_df[faces_df.label == '0_2']"
   ]
  },
  {
   "cell_type": "code",
   "execution_count": 26,
   "metadata": {},
   "outputs": [
    {
     "data": {
      "text/plain": [
       "(1536, 4)"
      ]
     },
     "execution_count": 26,
     "metadata": {},
     "output_type": "execute_result"
    }
   ],
   "source": [
    "df_0_2.shape"
   ]
  },
  {
   "cell_type": "code",
   "execution_count": 27,
   "metadata": {},
   "outputs": [],
   "source": [
    "# Drop randon 536 photos"
   ]
  },
  {
   "cell_type": "code",
   "execution_count": 28,
   "metadata": {},
   "outputs": [],
   "source": [
    "a = list(df_0_2.index)"
   ]
  },
  {
   "cell_type": "code",
   "execution_count": 29,
   "metadata": {},
   "outputs": [],
   "source": [
    "randomlist = random.sample(a, 536)"
   ]
  },
  {
   "cell_type": "code",
   "execution_count": 30,
   "metadata": {},
   "outputs": [],
   "source": [
    "df_0_2 = df_0_2.drop(randomlist)"
   ]
  },
  {
   "cell_type": "code",
   "execution_count": 31,
   "metadata": {},
   "outputs": [
    {
     "data": {
      "text/plain": [
       "(1000, 4)"
      ]
     },
     "execution_count": 31,
     "metadata": {},
     "output_type": "execute_result"
    }
   ],
   "source": [
    "df_0_2.shape"
   ]
  },
  {
   "cell_type": "code",
   "execution_count": 32,
   "metadata": {},
   "outputs": [],
   "source": [
    "#4_6:"
   ]
  },
  {
   "cell_type": "code",
   "execution_count": 33,
   "metadata": {},
   "outputs": [],
   "source": [
    "df_4_6 = faces_df[faces_df.label == '4_6']"
   ]
  },
  {
   "cell_type": "code",
   "execution_count": 34,
   "metadata": {},
   "outputs": [
    {
     "data": {
      "text/plain": [
       "(1611, 4)"
      ]
     },
     "execution_count": 34,
     "metadata": {},
     "output_type": "execute_result"
    }
   ],
   "source": [
    "df_4_6.shape"
   ]
  },
  {
   "cell_type": "code",
   "execution_count": 35,
   "metadata": {},
   "outputs": [],
   "source": [
    "# Drop randon 611 photos"
   ]
  },
  {
   "cell_type": "code",
   "execution_count": 36,
   "metadata": {},
   "outputs": [],
   "source": [
    "a = list(df_4_6.index)"
   ]
  },
  {
   "cell_type": "code",
   "execution_count": 37,
   "metadata": {},
   "outputs": [],
   "source": [
    "randomlist = random.sample(a, 611)"
   ]
  },
  {
   "cell_type": "code",
   "execution_count": 38,
   "metadata": {},
   "outputs": [],
   "source": [
    "df_4_6 = df_4_6.drop(randomlist)"
   ]
  },
  {
   "cell_type": "code",
   "execution_count": 39,
   "metadata": {},
   "outputs": [],
   "source": [
    "#8_12:"
   ]
  },
  {
   "cell_type": "code",
   "execution_count": 40,
   "metadata": {},
   "outputs": [],
   "source": [
    "df_8_12 = faces_df[faces_df.label == '8_12']"
   ]
  },
  {
   "cell_type": "code",
   "execution_count": 41,
   "metadata": {},
   "outputs": [
    {
     "data": {
      "text/plain": [
       "(1833, 4)"
      ]
     },
     "execution_count": 41,
     "metadata": {},
     "output_type": "execute_result"
    }
   ],
   "source": [
    "df_8_12.shape"
   ]
  },
  {
   "cell_type": "code",
   "execution_count": 42,
   "metadata": {},
   "outputs": [],
   "source": [
    "# Drop randon 833 photos"
   ]
  },
  {
   "cell_type": "code",
   "execution_count": 43,
   "metadata": {},
   "outputs": [],
   "source": [
    "a = list(df_8_12.index)"
   ]
  },
  {
   "cell_type": "code",
   "execution_count": 44,
   "metadata": {},
   "outputs": [],
   "source": [
    "randomlist = random.sample(a, 833)"
   ]
  },
  {
   "cell_type": "code",
   "execution_count": 45,
   "metadata": {},
   "outputs": [],
   "source": [
    "df_8_12 = df_8_12.drop(randomlist)"
   ]
  },
  {
   "cell_type": "code",
   "execution_count": 46,
   "metadata": {},
   "outputs": [],
   "source": [
    "#15_20:"
   ]
  },
  {
   "cell_type": "code",
   "execution_count": 47,
   "metadata": {},
   "outputs": [],
   "source": [
    "df_15_20 = faces_df[faces_df.label == '15_20']"
   ]
  },
  {
   "cell_type": "code",
   "execution_count": 48,
   "metadata": {},
   "outputs": [
    {
     "data": {
      "text/plain": [
       "(1313, 4)"
      ]
     },
     "execution_count": 48,
     "metadata": {},
     "output_type": "execute_result"
    }
   ],
   "source": [
    "df_15_20.shape"
   ]
  },
  {
   "cell_type": "code",
   "execution_count": 49,
   "metadata": {},
   "outputs": [],
   "source": [
    "# Drop randon 313 photos"
   ]
  },
  {
   "cell_type": "code",
   "execution_count": 50,
   "metadata": {},
   "outputs": [],
   "source": [
    "a = list(df_15_20.index)"
   ]
  },
  {
   "cell_type": "code",
   "execution_count": 51,
   "metadata": {},
   "outputs": [],
   "source": [
    "randomlist = random.sample(a, 313)"
   ]
  },
  {
   "cell_type": "code",
   "execution_count": 52,
   "metadata": {},
   "outputs": [],
   "source": [
    "df_15_20 = df_15_20.drop(randomlist)"
   ]
  },
  {
   "cell_type": "code",
   "execution_count": 53,
   "metadata": {},
   "outputs": [],
   "source": [
    "#25_32:"
   ]
  },
  {
   "cell_type": "code",
   "execution_count": 54,
   "metadata": {},
   "outputs": [],
   "source": [
    "df_25_32 = faces_df[faces_df.label == '25_32']"
   ]
  },
  {
   "cell_type": "code",
   "execution_count": 55,
   "metadata": {},
   "outputs": [
    {
     "data": {
      "text/plain": [
       "(4202, 4)"
      ]
     },
     "execution_count": 55,
     "metadata": {},
     "output_type": "execute_result"
    }
   ],
   "source": [
    "df_25_32.shape"
   ]
  },
  {
   "cell_type": "code",
   "execution_count": 56,
   "metadata": {},
   "outputs": [],
   "source": [
    "# Drop randon 3202 photos"
   ]
  },
  {
   "cell_type": "code",
   "execution_count": 57,
   "metadata": {},
   "outputs": [],
   "source": [
    "a = list(df_25_32.index)"
   ]
  },
  {
   "cell_type": "code",
   "execution_count": 58,
   "metadata": {},
   "outputs": [],
   "source": [
    "randomlist = random.sample(a, 3202)"
   ]
  },
  {
   "cell_type": "code",
   "execution_count": 59,
   "metadata": {},
   "outputs": [],
   "source": [
    "df_25_32 = df_25_32.drop(randomlist)"
   ]
  },
  {
   "cell_type": "code",
   "execution_count": 60,
   "metadata": {},
   "outputs": [],
   "source": [
    "#38_43:"
   ]
  },
  {
   "cell_type": "code",
   "execution_count": 61,
   "metadata": {},
   "outputs": [],
   "source": [
    "df_38_43 = faces_df[faces_df.label == '38_43']"
   ]
  },
  {
   "cell_type": "code",
   "execution_count": 62,
   "metadata": {},
   "outputs": [
    {
     "data": {
      "text/plain": [
       "(1946, 4)"
      ]
     },
     "execution_count": 62,
     "metadata": {},
     "output_type": "execute_result"
    }
   ],
   "source": [
    "df_38_43.shape"
   ]
  },
  {
   "cell_type": "code",
   "execution_count": 63,
   "metadata": {},
   "outputs": [],
   "source": [
    "# Drop randon 946 photos"
   ]
  },
  {
   "cell_type": "code",
   "execution_count": 64,
   "metadata": {},
   "outputs": [],
   "source": [
    "a = list(df_38_43.index)"
   ]
  },
  {
   "cell_type": "code",
   "execution_count": 65,
   "metadata": {},
   "outputs": [],
   "source": [
    "randomlist = random.sample(a, 946)"
   ]
  },
  {
   "cell_type": "code",
   "execution_count": 66,
   "metadata": {},
   "outputs": [],
   "source": [
    "df_38_43 = df_38_43.drop(randomlist)"
   ]
  },
  {
   "cell_type": "code",
   "execution_count": 67,
   "metadata": {},
   "outputs": [],
   "source": [
    "# 48_53:"
   ]
  },
  {
   "cell_type": "code",
   "execution_count": 68,
   "metadata": {},
   "outputs": [],
   "source": [
    "df_48_53 = faces_df[faces_df.label == '48_53']"
   ]
  },
  {
   "cell_type": "code",
   "execution_count": 69,
   "metadata": {},
   "outputs": [],
   "source": [
    "#60_100:"
   ]
  },
  {
   "cell_type": "code",
   "execution_count": 70,
   "metadata": {},
   "outputs": [],
   "source": [
    "df_60_100 = faces_df[faces_df.label == '60_100']"
   ]
  },
  {
   "cell_type": "code",
   "execution_count": 71,
   "metadata": {},
   "outputs": [],
   "source": [
    "# Merge all dataframes:"
   ]
  },
  {
   "cell_type": "code",
   "execution_count": 72,
   "metadata": {},
   "outputs": [],
   "source": [
    "frames = [df_0_2, df_4_6, df_8_12, df_15_20, df_25_32, df_38_43, df_48_53, df_60_100]\n",
    "\n",
    "result = pd.concat(frames)"
   ]
  },
  {
   "cell_type": "code",
   "execution_count": 73,
   "metadata": {},
   "outputs": [
    {
     "data": {
      "text/plain": [
       "0_2       1000\n",
       "4_6       1000\n",
       "38_43     1000\n",
       "25_32     1000\n",
       "15_20     1000\n",
       "8_12      1000\n",
       "60_100     692\n",
       "48_53      676\n",
       "Name: label, dtype: int64"
      ]
     },
     "execution_count": 73,
     "metadata": {},
     "output_type": "execute_result"
    }
   ],
   "source": [
    "result.label.value_counts()"
   ]
  },
  {
   "cell_type": "code",
   "execution_count": 74,
   "metadata": {},
   "outputs": [
    {
     "data": {
      "text/html": [
       "<div>\n",
       "<style scoped>\n",
       "    .dataframe tbody tr th:only-of-type {\n",
       "        vertical-align: middle;\n",
       "    }\n",
       "\n",
       "    .dataframe tbody tr th {\n",
       "        vertical-align: top;\n",
       "    }\n",
       "\n",
       "    .dataframe thead th {\n",
       "        text-align: right;\n",
       "    }\n",
       "</style>\n",
       "<table border=\"1\" class=\"dataframe\">\n",
       "  <thead>\n",
       "    <tr style=\"text-align: right;\">\n",
       "      <th></th>\n",
       "      <th>label</th>\n",
       "      <th>image_path</th>\n",
       "      <th>arrays</th>\n",
       "      <th>image_name</th>\n",
       "    </tr>\n",
       "  </thead>\n",
       "  <tbody>\n",
       "    <tr>\n",
       "      <th>0</th>\n",
       "      <td>0_2</td>\n",
       "      <td>../OUTPUT/images/0_2/image_669.jpg</td>\n",
       "      <td>[[58, 64, 76, 90, 109, 119, 135, 150, 166, 164...</td>\n",
       "      <td>image_669.jpg</td>\n",
       "    </tr>\n",
       "    <tr>\n",
       "      <th>2</th>\n",
       "      <td>0_2</td>\n",
       "      <td>../OUTPUT/images/0_2/image_346.jpg</td>\n",
       "      <td>[[10, 13, 14, 22, 41, 37, 33, 35, 34, 37, 32, ...</td>\n",
       "      <td>image_346.jpg</td>\n",
       "    </tr>\n",
       "    <tr>\n",
       "      <th>5</th>\n",
       "      <td>0_2</td>\n",
       "      <td>../OUTPUT/images/0_2/image_1135.jpg</td>\n",
       "      <td>[[193, 194, 193, 188, 186, 186, 180, 146, 82, ...</td>\n",
       "      <td>image_1135.jpg</td>\n",
       "    </tr>\n",
       "    <tr>\n",
       "      <th>6</th>\n",
       "      <td>0_2</td>\n",
       "      <td>../OUTPUT/images/0_2/image_231.jpg</td>\n",
       "      <td>[[72, 80, 101, 108, 110, 111, 115, 121, 128, 1...</td>\n",
       "      <td>image_231.jpg</td>\n",
       "    </tr>\n",
       "    <tr>\n",
       "      <th>8</th>\n",
       "      <td>0_2</td>\n",
       "      <td>../OUTPUT/images/0_2/image_1937.jpg</td>\n",
       "      <td>[[38, 24, 28, 24, 20, 21, 24, 24, 54, 106, 122...</td>\n",
       "      <td>image_1937.jpg</td>\n",
       "    </tr>\n",
       "  </tbody>\n",
       "</table>\n",
       "</div>"
      ],
      "text/plain": [
       "  label                           image_path  \\\n",
       "0   0_2   ../OUTPUT/images/0_2/image_669.jpg   \n",
       "2   0_2   ../OUTPUT/images/0_2/image_346.jpg   \n",
       "5   0_2  ../OUTPUT/images/0_2/image_1135.jpg   \n",
       "6   0_2   ../OUTPUT/images/0_2/image_231.jpg   \n",
       "8   0_2  ../OUTPUT/images/0_2/image_1937.jpg   \n",
       "\n",
       "                                              arrays      image_name  \n",
       "0  [[58, 64, 76, 90, 109, 119, 135, 150, 166, 164...   image_669.jpg  \n",
       "2  [[10, 13, 14, 22, 41, 37, 33, 35, 34, 37, 32, ...   image_346.jpg  \n",
       "5  [[193, 194, 193, 188, 186, 186, 180, 146, 82, ...  image_1135.jpg  \n",
       "6  [[72, 80, 101, 108, 110, 111, 115, 121, 128, 1...   image_231.jpg  \n",
       "8  [[38, 24, 28, 24, 20, 21, 24, 24, 54, 106, 122...  image_1937.jpg  "
      ]
     },
     "execution_count": 74,
     "metadata": {},
     "output_type": "execute_result"
    }
   ],
   "source": [
    "result.head()"
   ]
  },
  {
   "cell_type": "markdown",
   "metadata": {},
   "source": [
    "## Saving in a new folder (faces_detected):"
   ]
  },
  {
   "cell_type": "code",
   "execution_count": 106,
   "metadata": {},
   "outputs": [],
   "source": [
    "for index, row in result.iterrows():\n",
    "    img = Image.fromarray(row['arrays'])\n",
    "    img.save(\"../OUTPUT/faces_detected/{}/{}\".format(row['label'],row['image_name']))   "
   ]
  },
  {
   "cell_type": "markdown",
   "metadata": {},
   "source": [
    "# Final dataframe:"
   ]
  },
  {
   "cell_type": "markdown",
   "metadata": {},
   "source": [
    "## update the image_path"
   ]
  },
  {
   "cell_type": "code",
   "execution_count": 75,
   "metadata": {},
   "outputs": [],
   "source": [
    "result['image_path'] = result['image_path'].str.replace('images', 'faces_detected', regex=True)"
   ]
  },
  {
   "cell_type": "markdown",
   "metadata": {},
   "source": [
    "## Organize columns"
   ]
  },
  {
   "cell_type": "code",
   "execution_count": 76,
   "metadata": {},
   "outputs": [],
   "source": [
    "result = result[['label', 'image_path', 'image_name', 'arrays']]"
   ]
  },
  {
   "cell_type": "markdown",
   "metadata": {},
   "source": [
    "## Transform the label into numerical"
   ]
  },
  {
   "cell_type": "code",
   "execution_count": 77,
   "metadata": {},
   "outputs": [],
   "source": [
    "df_label = pd.get_dummies(result['label'])"
   ]
  },
  {
   "cell_type": "markdown",
   "metadata": {},
   "source": [
    "## Organize columns for labels"
   ]
  },
  {
   "cell_type": "code",
   "execution_count": 78,
   "metadata": {},
   "outputs": [],
   "source": [
    "df_label = df_label[['0_2', '4_6', '8_12', '15_20', '25_32', '38_43', '48_53', '60_100']]"
   ]
  },
  {
   "cell_type": "markdown",
   "metadata": {},
   "source": [
    "## Create column GT"
   ]
  },
  {
   "cell_type": "code",
   "execution_count": 79,
   "metadata": {},
   "outputs": [],
   "source": [
    "Row_list =[] \n",
    "  \n",
    "for index, rows in df_label.iterrows(): \n",
    "    my_list =[rows['0_2'], rows['4_6'], rows['8_12'], rows['15_20'], rows['25_32'], rows['38_43'], rows['48_53'], rows['60_100']] \n",
    "    Row_list.append(my_list)"
   ]
  },
  {
   "cell_type": "code",
   "execution_count": 80,
   "metadata": {},
   "outputs": [],
   "source": [
    "df_label['gt'] = Row_list"
   ]
  },
  {
   "cell_type": "code",
   "execution_count": 81,
   "metadata": {},
   "outputs": [
    {
     "name": "stdout",
     "output_type": "stream",
     "text": [
      "(7368, 9)\n"
     ]
    },
    {
     "data": {
      "text/html": [
       "<div>\n",
       "<style scoped>\n",
       "    .dataframe tbody tr th:only-of-type {\n",
       "        vertical-align: middle;\n",
       "    }\n",
       "\n",
       "    .dataframe tbody tr th {\n",
       "        vertical-align: top;\n",
       "    }\n",
       "\n",
       "    .dataframe thead th {\n",
       "        text-align: right;\n",
       "    }\n",
       "</style>\n",
       "<table border=\"1\" class=\"dataframe\">\n",
       "  <thead>\n",
       "    <tr style=\"text-align: right;\">\n",
       "      <th></th>\n",
       "      <th>0_2</th>\n",
       "      <th>4_6</th>\n",
       "      <th>8_12</th>\n",
       "      <th>15_20</th>\n",
       "      <th>25_32</th>\n",
       "      <th>38_43</th>\n",
       "      <th>48_53</th>\n",
       "      <th>60_100</th>\n",
       "      <th>gt</th>\n",
       "    </tr>\n",
       "  </thead>\n",
       "  <tbody>\n",
       "    <tr>\n",
       "      <th>0</th>\n",
       "      <td>1</td>\n",
       "      <td>0</td>\n",
       "      <td>0</td>\n",
       "      <td>0</td>\n",
       "      <td>0</td>\n",
       "      <td>0</td>\n",
       "      <td>0</td>\n",
       "      <td>0</td>\n",
       "      <td>[1, 0, 0, 0, 0, 0, 0, 0]</td>\n",
       "    </tr>\n",
       "    <tr>\n",
       "      <th>2</th>\n",
       "      <td>1</td>\n",
       "      <td>0</td>\n",
       "      <td>0</td>\n",
       "      <td>0</td>\n",
       "      <td>0</td>\n",
       "      <td>0</td>\n",
       "      <td>0</td>\n",
       "      <td>0</td>\n",
       "      <td>[1, 0, 0, 0, 0, 0, 0, 0]</td>\n",
       "    </tr>\n",
       "    <tr>\n",
       "      <th>5</th>\n",
       "      <td>1</td>\n",
       "      <td>0</td>\n",
       "      <td>0</td>\n",
       "      <td>0</td>\n",
       "      <td>0</td>\n",
       "      <td>0</td>\n",
       "      <td>0</td>\n",
       "      <td>0</td>\n",
       "      <td>[1, 0, 0, 0, 0, 0, 0, 0]</td>\n",
       "    </tr>\n",
       "    <tr>\n",
       "      <th>6</th>\n",
       "      <td>1</td>\n",
       "      <td>0</td>\n",
       "      <td>0</td>\n",
       "      <td>0</td>\n",
       "      <td>0</td>\n",
       "      <td>0</td>\n",
       "      <td>0</td>\n",
       "      <td>0</td>\n",
       "      <td>[1, 0, 0, 0, 0, 0, 0, 0]</td>\n",
       "    </tr>\n",
       "    <tr>\n",
       "      <th>8</th>\n",
       "      <td>1</td>\n",
       "      <td>0</td>\n",
       "      <td>0</td>\n",
       "      <td>0</td>\n",
       "      <td>0</td>\n",
       "      <td>0</td>\n",
       "      <td>0</td>\n",
       "      <td>0</td>\n",
       "      <td>[1, 0, 0, 0, 0, 0, 0, 0]</td>\n",
       "    </tr>\n",
       "  </tbody>\n",
       "</table>\n",
       "</div>"
      ],
      "text/plain": [
       "   0_2  4_6  8_12  15_20  25_32  38_43  48_53  60_100  \\\n",
       "0    1    0     0      0      0      0      0       0   \n",
       "2    1    0     0      0      0      0      0       0   \n",
       "5    1    0     0      0      0      0      0       0   \n",
       "6    1    0     0      0      0      0      0       0   \n",
       "8    1    0     0      0      0      0      0       0   \n",
       "\n",
       "                         gt  \n",
       "0  [1, 0, 0, 0, 0, 0, 0, 0]  \n",
       "2  [1, 0, 0, 0, 0, 0, 0, 0]  \n",
       "5  [1, 0, 0, 0, 0, 0, 0, 0]  \n",
       "6  [1, 0, 0, 0, 0, 0, 0, 0]  \n",
       "8  [1, 0, 0, 0, 0, 0, 0, 0]  "
      ]
     },
     "execution_count": 81,
     "metadata": {},
     "output_type": "execute_result"
    }
   ],
   "source": [
    "print(df_label.shape)\n",
    "df_label.head()"
   ]
  },
  {
   "cell_type": "markdown",
   "metadata": {},
   "source": [
    "## Merge both dataframes:"
   ]
  },
  {
   "cell_type": "code",
   "execution_count": 82,
   "metadata": {},
   "outputs": [],
   "source": [
    "data_final = pd.concat([result, df_label], axis=1)"
   ]
  },
  {
   "cell_type": "code",
   "execution_count": 84,
   "metadata": {},
   "outputs": [
    {
     "name": "stdout",
     "output_type": "stream",
     "text": [
      "(7368, 13)\n"
     ]
    },
    {
     "data": {
      "text/html": [
       "<div>\n",
       "<style scoped>\n",
       "    .dataframe tbody tr th:only-of-type {\n",
       "        vertical-align: middle;\n",
       "    }\n",
       "\n",
       "    .dataframe tbody tr th {\n",
       "        vertical-align: top;\n",
       "    }\n",
       "\n",
       "    .dataframe thead th {\n",
       "        text-align: right;\n",
       "    }\n",
       "</style>\n",
       "<table border=\"1\" class=\"dataframe\">\n",
       "  <thead>\n",
       "    <tr style=\"text-align: right;\">\n",
       "      <th></th>\n",
       "      <th>label</th>\n",
       "      <th>image_path</th>\n",
       "      <th>image_name</th>\n",
       "      <th>arrays</th>\n",
       "      <th>0_2</th>\n",
       "      <th>4_6</th>\n",
       "      <th>8_12</th>\n",
       "      <th>15_20</th>\n",
       "      <th>25_32</th>\n",
       "      <th>38_43</th>\n",
       "      <th>48_53</th>\n",
       "      <th>60_100</th>\n",
       "      <th>gt</th>\n",
       "    </tr>\n",
       "  </thead>\n",
       "  <tbody>\n",
       "    <tr>\n",
       "      <th>0</th>\n",
       "      <td>0_2</td>\n",
       "      <td>../OUTPUT/faces_detected/0_2/image_669.jpg</td>\n",
       "      <td>image_669.jpg</td>\n",
       "      <td>[[58, 64, 76, 90, 109, 119, 135, 150, 166, 164...</td>\n",
       "      <td>1</td>\n",
       "      <td>0</td>\n",
       "      <td>0</td>\n",
       "      <td>0</td>\n",
       "      <td>0</td>\n",
       "      <td>0</td>\n",
       "      <td>0</td>\n",
       "      <td>0</td>\n",
       "      <td>[1, 0, 0, 0, 0, 0, 0, 0]</td>\n",
       "    </tr>\n",
       "    <tr>\n",
       "      <th>2</th>\n",
       "      <td>0_2</td>\n",
       "      <td>../OUTPUT/faces_detected/0_2/image_346.jpg</td>\n",
       "      <td>image_346.jpg</td>\n",
       "      <td>[[10, 13, 14, 22, 41, 37, 33, 35, 34, 37, 32, ...</td>\n",
       "      <td>1</td>\n",
       "      <td>0</td>\n",
       "      <td>0</td>\n",
       "      <td>0</td>\n",
       "      <td>0</td>\n",
       "      <td>0</td>\n",
       "      <td>0</td>\n",
       "      <td>0</td>\n",
       "      <td>[1, 0, 0, 0, 0, 0, 0, 0]</td>\n",
       "    </tr>\n",
       "    <tr>\n",
       "      <th>5</th>\n",
       "      <td>0_2</td>\n",
       "      <td>../OUTPUT/faces_detected/0_2/image_1135.jpg</td>\n",
       "      <td>image_1135.jpg</td>\n",
       "      <td>[[193, 194, 193, 188, 186, 186, 180, 146, 82, ...</td>\n",
       "      <td>1</td>\n",
       "      <td>0</td>\n",
       "      <td>0</td>\n",
       "      <td>0</td>\n",
       "      <td>0</td>\n",
       "      <td>0</td>\n",
       "      <td>0</td>\n",
       "      <td>0</td>\n",
       "      <td>[1, 0, 0, 0, 0, 0, 0, 0]</td>\n",
       "    </tr>\n",
       "  </tbody>\n",
       "</table>\n",
       "</div>"
      ],
      "text/plain": [
       "  label                                   image_path      image_name  \\\n",
       "0   0_2   ../OUTPUT/faces_detected/0_2/image_669.jpg   image_669.jpg   \n",
       "2   0_2   ../OUTPUT/faces_detected/0_2/image_346.jpg   image_346.jpg   \n",
       "5   0_2  ../OUTPUT/faces_detected/0_2/image_1135.jpg  image_1135.jpg   \n",
       "\n",
       "                                              arrays  0_2  4_6  8_12  15_20  \\\n",
       "0  [[58, 64, 76, 90, 109, 119, 135, 150, 166, 164...    1    0     0      0   \n",
       "2  [[10, 13, 14, 22, 41, 37, 33, 35, 34, 37, 32, ...    1    0     0      0   \n",
       "5  [[193, 194, 193, 188, 186, 186, 180, 146, 82, ...    1    0     0      0   \n",
       "\n",
       "   25_32  38_43  48_53  60_100                        gt  \n",
       "0      0      0      0       0  [1, 0, 0, 0, 0, 0, 0, 0]  \n",
       "2      0      0      0       0  [1, 0, 0, 0, 0, 0, 0, 0]  \n",
       "5      0      0      0       0  [1, 0, 0, 0, 0, 0, 0, 0]  "
      ]
     },
     "execution_count": 84,
     "metadata": {},
     "output_type": "execute_result"
    }
   ],
   "source": [
    "print(data_final.shape)\n",
    "data_final.head(3)"
   ]
  },
  {
   "cell_type": "markdown",
   "metadata": {},
   "source": [
    "# Export data_final as Pickle:"
   ]
  },
  {
   "cell_type": "code",
   "execution_count": 85,
   "metadata": {},
   "outputs": [],
   "source": [
    "data_final.to_pickle(\"../OUTPUT/data_final.pkl\")"
   ]
  },
  {
   "cell_type": "markdown",
   "metadata": {},
   "source": [
    "All done!"
   ]
  }
 ],
 "metadata": {
  "kernelspec": {
   "display_name": "Python 3",
   "language": "python",
   "name": "python3"
  },
  "language_info": {
   "codemirror_mode": {
    "name": "ipython",
    "version": 3
   },
   "file_extension": ".py",
   "mimetype": "text/x-python",
   "name": "python",
   "nbconvert_exporter": "python",
   "pygments_lexer": "ipython3",
   "version": "3.7.5"
  }
 },
 "nbformat": 4,
 "nbformat_minor": 4
}
